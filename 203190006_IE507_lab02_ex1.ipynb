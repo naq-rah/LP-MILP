{
  "nbformat": 4,
  "nbformat_minor": 0,
  "metadata": {
    "colab": {
      "name": "203190006_IE507_lab02_ex1.ipynb",
      "provenance": [],
      "collapsed_sections": []
    },
    "kernelspec": {
      "name": "python3",
      "display_name": "Python 3"
    }
  },
  "cells": [
    {
      "cell_type": "code",
      "metadata": {
        "id": "JyCuGWwjMElJ",
        "colab_type": "code",
        "colab": {}
      },
      "source": [
        "!pip install -q pyomo"
      ],
      "execution_count": 79,
      "outputs": []
    },
    {
      "cell_type": "markdown",
      "metadata": {
        "id": "DLkrPyg8POIQ",
        "colab_type": "text"
      },
      "source": [
        "In the following example, we will solve a slightly general optimization problem: \n",
        "\\begin{align}\n",
        "\\min \\ c_1 x_1 + c_2 x_2 + \\ldots + c_N x_N, \\\\\n",
        "{\\rm{s.t.}} \\;  x_1 + x_2 + \\ldots +  x_N & \\leq b_1, \\\\\n",
        "w_1 x_1 + w_2 x_2 + \\ldots + w_N x_N  & =b_2, \\\\\n",
        "x_i & \\leq u_i, \\quad i=1,\\ldots,N, \\\\\n",
        "x_i & \\geq l_i, \\quad i=1,\\ldots,N. \\\\\n",
        "\\end{align}\n",
        "---"
      ]
    },
    {
      "cell_type": "code",
      "metadata": {
        "id": "kNzllKfDPL1A",
        "colab_type": "code",
        "colab": {}
      },
      "source": [
        "from pyomo.environ import *"
      ],
      "execution_count": 80,
      "outputs": []
    },
    {
      "cell_type": "code",
      "metadata": {
        "id": "OkNni1fZSpyU",
        "colab_type": "code",
        "colab": {}
      },
      "source": [
        "import numpy as np"
      ],
      "execution_count": 81,
      "outputs": []
    },
    {
      "cell_type": "code",
      "metadata": {
        "id": "eN8nS6a2Suyc",
        "colab_type": "code",
        "colab": {}
      },
      "source": [
        "#creating a concrete model\n",
        "model=ConcreteModel()"
      ],
      "execution_count": 82,
      "outputs": []
    },
    {
      "cell_type": "code",
      "metadata": {
        "id": "He9FIsK9S49h",
        "colab_type": "code",
        "colab": {}
      },
      "source": [
        "#defining no. of variables\n",
        "N=10"
      ],
      "execution_count": 83,
      "outputs": []
    },
    {
      "cell_type": "code",
      "metadata": {
        "id": "s2uQFSdYTFRU",
        "colab_type": "code",
        "colab": {}
      },
      "source": [
        "#defining coefficient\n",
        "obj_coef_c=np.array([-10.1, 20.15, 60.5, 80.05, 0.15, 40.5, -0.05, -30.02, 40.65, 0.125])"
      ],
      "execution_count": 84,
      "outputs": []
    },
    {
      "cell_type": "code",
      "metadata": {
        "id": "NgFLlTrKURQc",
        "colab_type": "code",
        "colab": {}
      },
      "source": [
        "#defining constraints coefficient\n",
        "const2_coef_w=np.array([0, 1.6, -2.02, 0, 1.01, -2.005, 0, 1.39, 1, -1.214])"
      ],
      "execution_count": 85,
      "outputs": []
    },
    {
      "cell_type": "code",
      "metadata": {
        "id": "phtjYkRaUyof",
        "colab_type": "code",
        "colab": {}
      },
      "source": [
        "#defining RHS value in constraint equation\n",
        "const1_rhs_b1 = 151.2\n",
        "const2_rhs_b2 = 44.6"
      ],
      "execution_count": 86,
      "outputs": []
    },
    {
      "cell_type": "code",
      "metadata": {
        "id": "pzrBxbjhVLza",
        "colab_type": "code",
        "colab": {}
      },
      "source": [
        "#defining lower and upper bound for the variables\n",
        "lower_bound = np.array([-np.inf,1,0,0,7,0,-np.inf,-np.inf,1,1])\n",
        "upper_bound = np.array([4, 3,np.inf, 2, 10,np.inf, 13, 20,np.inf, 21])"
      ],
      "execution_count": 87,
      "outputs": []
    },
    {
      "cell_type": "code",
      "metadata": {
        "id": "QMDu_uFKWGVv",
        "colab_type": "code",
        "colab": {
          "base_uri": "https://localhost:8080/",
          "height": 35
        },
        "outputId": "8fadd3ea-d12f-44f9-d1ef-8d0a2ef964e9"
      },
      "source": [
        "col_indices = np.arange(N)\n",
        "print(col_indices)"
      ],
      "execution_count": 88,
      "outputs": [
        {
          "output_type": "stream",
          "text": [
            "[0 1 2 3 4 5 6 7 8 9]\n"
          ],
          "name": "stdout"
        }
      ]
    },
    {
      "cell_type": "code",
      "metadata": {
        "id": "ti08wdjuWREl",
        "colab_type": "code",
        "colab": {}
      },
      "source": [
        "#declare the decision variables in the model\n",
        "model.x = Var(col_indices)"
      ],
      "execution_count": 89,
      "outputs": []
    },
    {
      "cell_type": "code",
      "metadata": {
        "id": "aMd56MsQWpq0",
        "colab_type": "code",
        "colab": {}
      },
      "source": [
        "# creating  a ConstraintList to hold multiple constraints\n",
        "model.constraints = ConstraintList()"
      ],
      "execution_count": 90,
      "outputs": []
    },
    {
      "cell_type": "code",
      "metadata": {
        "id": "lL6fKwdEW8G9",
        "colab_type": "code",
        "colab": {
          "base_uri": "https://localhost:8080/",
          "height": 35
        },
        "outputId": "c86aa10c-4187-4b81-ef44-55796808cdbf"
      },
      "source": [
        "#defining constraint  x1+x2+…+xN<=b1\n",
        "model.constraints.add(sum(model.x[j] for j in col_indices)<=const1_rhs_b1)"
      ],
      "execution_count": 91,
      "outputs": [
        {
          "output_type": "execute_result",
          "data": {
            "text/plain": [
              "<pyomo.core.base.constraint._GeneralConstraintData at 0x7fc2ce833ca8>"
            ]
          },
          "metadata": {
            "tags": []
          },
          "execution_count": 91
        }
      ]
    },
    {
      "cell_type": "code",
      "metadata": {
        "id": "NvhEvT_aXpoW",
        "colab_type": "code",
        "colab": {
          "base_uri": "https://localhost:8080/",
          "height": 35
        },
        "outputId": "e8032e9e-3fbe-44f8-edf3-0cc0046ac4d1"
      },
      "source": [
        "#defining constraint  w1x1+w2x2+…+wNxN=b2\n",
        "model.constraints.add(sum(const2_coef_w[j]*model.x[j] for j in col_indices) == const2_rhs_b2)"
      ],
      "execution_count": 92,
      "outputs": [
        {
          "output_type": "execute_result",
          "data": {
            "text/plain": [
              "<pyomo.core.base.constraint._GeneralConstraintData at 0x7fc2ce833d68>"
            ]
          },
          "metadata": {
            "tags": []
          },
          "execution_count": 92
        }
      ]
    },
    {
      "cell_type": "code",
      "metadata": {
        "id": "gXvQmAWiaWbg",
        "colab_type": "code",
        "colab": {}
      },
      "source": [
        "#adding the upper bound and lower bounds for the variables\n",
        "for j in col_indices:\n",
        "  model.x[j].setlb(lower_bound[j])\n",
        "  model.x[j].setub(upper_bound[j])"
      ],
      "execution_count": 93,
      "outputs": []
    },
    {
      "cell_type": "code",
      "metadata": {
        "id": "Ev8NZTczaicg",
        "colab_type": "code",
        "colab": {}
      },
      "source": [
        "#defining objective function\n",
        "model.objective=Objective(expr=sum(obj_coef_c[j]*model.x[j] for j in col_indices),sense=minimize)"
      ],
      "execution_count": 94,
      "outputs": []
    },
    {
      "cell_type": "code",
      "metadata": {
        "id": "aIQ2biaaccor",
        "colab_type": "code",
        "colab": {
          "base_uri": "https://localhost:8080/",
          "height": 655
        },
        "outputId": "81bd9189-40e2-4d83-f262-9b5028bf21fe"
      },
      "source": [
        "model.pprint()"
      ],
      "execution_count": 95,
      "outputs": [
        {
          "output_type": "stream",
          "text": [
            "2 Set Declarations\n",
            "    constraints_index : Size=1, Index=None, Ordered=Insertion\n",
            "        Key  : Dimen : Domain : Size : Members\n",
            "        None :     1 :    Any :    2 : {1, 2}\n",
            "    x_index : Size=1, Index=None, Ordered=False\n",
            "        Key  : Dimen : Domain : Size : Members\n",
            "        None :     1 :    Any :   10 : {0, 1, 2, 3, 4, 5, 6, 7, 8, 9}\n",
            "\n",
            "1 Var Declarations\n",
            "    x : Size=10, Index=x_index\n",
            "        Key : Lower : Value : Upper : Fixed : Stale : Domain\n",
            "          0 :  -inf :  None :   4.0 : False :  True :  Reals\n",
            "          1 :   1.0 :  None :   3.0 : False :  True :  Reals\n",
            "          2 :   0.0 :  None :   inf : False :  True :  Reals\n",
            "          3 :   0.0 :  None :   2.0 : False :  True :  Reals\n",
            "          4 :   7.0 :  None :  10.0 : False :  True :  Reals\n",
            "          5 :   0.0 :  None :   inf : False :  True :  Reals\n",
            "          6 :  -inf :  None :  13.0 : False :  True :  Reals\n",
            "          7 :  -inf :  None :  20.0 : False :  True :  Reals\n",
            "          8 :   1.0 :  None :   inf : False :  True :  Reals\n",
            "          9 :   1.0 :  None :  21.0 : False :  True :  Reals\n",
            "\n",
            "1 Objective Declarations\n",
            "    objective : Size=1, Index=None, Active=True\n",
            "        Key  : Active : Sense    : Expression\n",
            "        None :   True : minimize : -10.1*x[0] + 20.15*x[1] + 60.5*x[2] + 80.05*x[3] + 0.15*x[4] + 40.5*x[5] - 0.05*x[6] - 30.02*x[7] + 40.65*x[8] + 0.125*x[9]\n",
            "\n",
            "1 Constraint Declarations\n",
            "    constraints : Size=2, Index=constraints_index, Active=True\n",
            "        Key : Lower : Body                                                                          : Upper : Active\n",
            "          1 :  -Inf :           x[0] + x[1] + x[2] + x[3] + x[4] + x[5] + x[6] + x[7] + x[8] + x[9] : 151.2 :   True\n",
            "          2 :  44.6 : 1.6*x[1] - 2.02*x[2] + 1.01*x[4] - 2.005*x[5] + 1.39*x[7] + x[8] - 1.214*x[9] :  44.6 :   True\n",
            "\n",
            "5 Declarations: x_index x constraints_index constraints objective\n"
          ],
          "name": "stdout"
        }
      ]
    },
    {
      "cell_type": "code",
      "metadata": {
        "id": "hrOfA5Dacicy",
        "colab_type": "code",
        "colab": {
          "base_uri": "https://localhost:8080/",
          "height": 472
        },
        "outputId": "6aba544a-fb69-4eb0-f4da-79652005087d"
      },
      "source": [
        "!apt-get install -y -qq glpk-utils"
      ],
      "execution_count": 96,
      "outputs": [
        {
          "output_type": "stream",
          "text": [
            "Selecting previously unselected package libsuitesparseconfig5:amd64.\n",
            "(Reading database ... 144556 files and directories currently installed.)\n",
            "Preparing to unpack .../libsuitesparseconfig5_1%3a5.1.2-2_amd64.deb ...\n",
            "Unpacking libsuitesparseconfig5:amd64 (1:5.1.2-2) ...\n",
            "Selecting previously unselected package libamd2:amd64.\n",
            "Preparing to unpack .../libamd2_1%3a5.1.2-2_amd64.deb ...\n",
            "Unpacking libamd2:amd64 (1:5.1.2-2) ...\n",
            "Selecting previously unselected package libcolamd2:amd64.\n",
            "Preparing to unpack .../libcolamd2_1%3a5.1.2-2_amd64.deb ...\n",
            "Unpacking libcolamd2:amd64 (1:5.1.2-2) ...\n",
            "Selecting previously unselected package libglpk40:amd64.\n",
            "Preparing to unpack .../libglpk40_4.65-1_amd64.deb ...\n",
            "Unpacking libglpk40:amd64 (4.65-1) ...\n",
            "Selecting previously unselected package glpk-utils.\n",
            "Preparing to unpack .../glpk-utils_4.65-1_amd64.deb ...\n",
            "Unpacking glpk-utils (4.65-1) ...\n",
            "Setting up libsuitesparseconfig5:amd64 (1:5.1.2-2) ...\n",
            "Setting up libcolamd2:amd64 (1:5.1.2-2) ...\n",
            "Setting up libamd2:amd64 (1:5.1.2-2) ...\n",
            "Setting up libglpk40:amd64 (4.65-1) ...\n",
            "Setting up glpk-utils (4.65-1) ...\n",
            "Processing triggers for libc-bin (2.27-3ubuntu1) ...\n",
            "/sbin/ldconfig.real: /usr/local/lib/python3.6/dist-packages/ideep4py/lib/libmkldnn.so.0 is not a symbolic link\n",
            "\n",
            "Processing triggers for man-db (2.8.3-2ubuntu0.1) ...\n"
          ],
          "name": "stdout"
        }
      ]
    },
    {
      "cell_type": "code",
      "metadata": {
        "id": "dVcMIWPLcnsu",
        "colab_type": "code",
        "colab": {
          "base_uri": "https://localhost:8080/",
          "height": 617
        },
        "outputId": "c1e6a7d4-a0fd-485b-f434-5b32c1f8695d"
      },
      "source": [
        "SolverFactory('glpk', executable='/usr/bin/glpsol').solve(model).write()"
      ],
      "execution_count": 97,
      "outputs": [
        {
          "output_type": "stream",
          "text": [
            "# ==========================================================\n",
            "# = Solver Results                                         =\n",
            "# ==========================================================\n",
            "# ----------------------------------------------------------\n",
            "#   Problem Information\n",
            "# ----------------------------------------------------------\n",
            "Problem: \n",
            "- Name: unknown\n",
            "  Lower bound: -452.7909\n",
            "  Upper bound: -452.7909\n",
            "  Number of objectives: 1\n",
            "  Number of constraints: 3\n",
            "  Number of variables: 11\n",
            "  Number of nonzeros: 18\n",
            "  Sense: minimize\n",
            "# ----------------------------------------------------------\n",
            "#   Solver Information\n",
            "# ----------------------------------------------------------\n",
            "Solver: \n",
            "- Status: ok\n",
            "  Termination condition: optimal\n",
            "  Statistics: \n",
            "    Branch and bound: \n",
            "      Number of bounded subproblems: 0\n",
            "      Number of created subproblems: 0\n",
            "  Error rc: 0\n",
            "  Time: 0.013328313827514648\n",
            "# ----------------------------------------------------------\n",
            "#   Solution Information\n",
            "# ----------------------------------------------------------\n",
            "Solution: \n",
            "- number of solutions: 0\n",
            "  number of solutions displayed: 0\n"
          ],
          "name": "stdout"
        }
      ]
    },
    {
      "cell_type": "code",
      "metadata": {
        "id": "qYZEXa3ndMBb",
        "colab_type": "code",
        "colab": {
          "base_uri": "https://localhost:8080/",
          "height": 381
        },
        "outputId": "00e56386-246a-4420-d22f-709d8fda5ad3"
      },
      "source": [
        "# display solution\n",
        "print('\\nObjective = ', model.objective())\n",
        "\n",
        "print('\\nDecision Variables')\n",
        "for k in col_indices:\n",
        "  print('x[',k,'] = ', model.x[k].value)\n",
        "\n",
        "print('\\nConstraints')\n",
        "model.constraints.display()"
      ],
      "execution_count": 98,
      "outputs": [
        {
          "output_type": "stream",
          "text": [
            "\n",
            "Objective =  -452.7909\n",
            "\n",
            "Decision Variables\n",
            "x[ 0 ] =  4.0\n",
            "x[ 1 ] =  3.0\n",
            "x[ 2 ] =  0.0\n",
            "x[ 3 ] =  0.0\n",
            "x[ 4 ] =  10.0\n",
            "x[ 5 ] =  0.0\n",
            "x[ 6 ] =  13.0\n",
            "x[ 7 ] =  20.0\n",
            "x[ 8 ] =  3.114\n",
            "x[ 9 ] =  1.0\n",
            "\n",
            "Constraints\n",
            "constraints : Size=2\n",
            "    Key : Lower : Body               : Upper\n",
            "      1 :  None :             54.114 : 151.2\n",
            "      2 :  44.6 : 44.599999999999994 :  44.6\n"
          ],
          "name": "stdout"
        }
      ]
    }
  ]
}