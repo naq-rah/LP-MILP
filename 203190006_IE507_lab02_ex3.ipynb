{
  "nbformat": 4,
  "nbformat_minor": 0,
  "metadata": {
    "colab": {
      "name": " 203190006_IE507_lab02_ex3.ipynb",
      "provenance": [],
      "collapsed_sections": []
    },
    "kernelspec": {
      "name": "python3",
      "display_name": "Python 3"
    }
  },
  "cells": [
    {
      "cell_type": "code",
      "metadata": {
        "id": "JyCuGWwjMElJ",
        "colab_type": "code",
        "colab": {
          "base_uri": "https://localhost:8080/",
          "height": 90
        },
        "outputId": "eddc8eab-ded3-49f4-ddc9-8ff4e793a17d"
      },
      "source": [
        "!pip install -q pyomo"
      ],
      "execution_count": 1,
      "outputs": [
        {
          "output_type": "stream",
          "text": [
            "\u001b[K     |████████████████████████████████| 9.0MB 3.2MB/s \n",
            "\u001b[K     |████████████████████████████████| 51kB 6.1MB/s \n",
            "\u001b[K     |████████████████████████████████| 256kB 47.1MB/s \n",
            "\u001b[K     |████████████████████████████████| 163kB 41.8MB/s \n",
            "\u001b[?25h"
          ],
          "name": "stdout"
        }
      ]
    },
    {
      "cell_type": "markdown",
      "metadata": {
        "id": "DLkrPyg8POIQ",
        "colab_type": "text"
      },
      "source": [
        "example2,   general optimization problem: \n",
        "\\begin{align}\n",
        "\\min \\ c^Tx\\\\\n",
        " Ax ≤ b\\\\\n",
        " l ≤ x ≤ u\n",
        "\\end{align}\n",
        "\n",
        "---"
      ]
    },
    {
      "cell_type": "code",
      "metadata": {
        "id": "kNzllKfDPL1A",
        "colab_type": "code",
        "colab": {}
      },
      "source": [
        "from pyomo.environ import *"
      ],
      "execution_count": 2,
      "outputs": []
    },
    {
      "cell_type": "code",
      "metadata": {
        "id": "OkNni1fZSpyU",
        "colab_type": "code",
        "colab": {}
      },
      "source": [
        "import numpy as np"
      ],
      "execution_count": 3,
      "outputs": []
    },
    {
      "cell_type": "code",
      "metadata": {
        "id": "eN8nS6a2Suyc",
        "colab_type": "code",
        "colab": {}
      },
      "source": [
        "#creating a concrete model\n",
        "model=ConcreteModel()"
      ],
      "execution_count": 4,
      "outputs": []
    },
    {
      "cell_type": "code",
      "metadata": {
        "id": "He9FIsK9S49h",
        "colab_type": "code",
        "colab": {}
      },
      "source": [
        "#defining no. of variables\n",
        "N=20\n",
        "# defining no. of constraints \n",
        "M=3"
      ],
      "execution_count": 5,
      "outputs": []
    },
    {
      "cell_type": "code",
      "metadata": {
        "id": "s2uQFSdYTFRU",
        "colab_type": "code",
        "colab": {}
      },
      "source": [
        "#defining coefficient(first 10 variables corresponds to stocks available in the company ,\n",
        "# other 10 variables for those which need to be purchased from market  \n",
        "# note: i and i+10 corresponds same product.\n",
        "obj_coef_c=np.array([35,50,58,60,44,39,45,55,35,40,72,95,110,125,88,74,95,115,60,84])"
      ],
      "execution_count": 6,
      "outputs": []
    },
    {
      "cell_type": "code",
      "metadata": {
        "id": "NgFLlTrKURQc",
        "colab_type": "code",
        "colab": {
          "base_uri": "https://localhost:8080/",
          "height": 72
        },
        "outputId": "f24526b4-ec94-47cb-ab88-05a73e91349d"
      },
      "source": [
        "#defining constraints coefficient in matrix of 3*20\n",
        "const_coef_A=np.array([[80,75,75,60,55,55,40,35,30,30,80,75,75,60,55,55,40,35,30,30],\n",
        "                       [15,15,10,20,25,10,50,15,30,55,15,15,10,20,25,10,50,15,30,55],\n",
        "                       [5,10,15,20,20,35,10,50,40,15,5,10,15,20,20,35,10,50,40,15]])\n",
        "print(const_coef_A)"
      ],
      "execution_count": 7,
      "outputs": [
        {
          "output_type": "stream",
          "text": [
            "[[80 75 75 60 55 55 40 35 30 30 80 75 75 60 55 55 40 35 30 30]\n",
            " [15 15 10 20 25 10 50 15 30 55 15 15 10 20 25 10 50 15 30 55]\n",
            " [ 5 10 15 20 20 35 10 50 40 15  5 10 15 20 20 35 10 50 40 15]]\n"
          ],
          "name": "stdout"
        }
      ]
    },
    {
      "cell_type": "code",
      "metadata": {
        "id": "phtjYkRaUyof",
        "colab_type": "code",
        "colab": {}
      },
      "source": [
        "#defining RHS value in constraint equation\n",
        "const_rhs_b =np.array([45*250,35*250,20*250])"
      ],
      "execution_count": 8,
      "outputs": []
    },
    {
      "cell_type": "code",
      "metadata": {
        "id": "t3mkaeTies7b",
        "colab_type": "code",
        "colab": {}
      },
      "source": [
        "lower_bound = np.array([0,0,0,0,0,0,0,0,0,0,0,0,0,0,0,0,0,0,0,0])\n",
        "upper_bound = np.array([10,7,8,15,8,15,12,10,0,9,np.inf,np.inf,np.inf,np.inf,np.inf,np.inf,np.inf,np.inf,np.inf,np.inf ])"
      ],
      "execution_count": 9,
      "outputs": []
    },
    {
      "cell_type": "code",
      "metadata": {
        "id": "7NzOiDeZqspF",
        "colab_type": "code",
        "colab": {
          "base_uri": "https://localhost:8080/",
          "height": 35
        },
        "outputId": "402f39e6-b508-41e0-f0b0-444c94b1172f"
      },
      "source": [
        "row_indices = np.arange(M)\n",
        "print(row_indices)"
      ],
      "execution_count": 10,
      "outputs": [
        {
          "output_type": "stream",
          "text": [
            "[0 1 2]\n"
          ],
          "name": "stdout"
        }
      ]
    },
    {
      "cell_type": "code",
      "metadata": {
        "id": "OrJmuxeInbd5",
        "colab_type": "code",
        "colab": {}
      },
      "source": [
        ""
      ],
      "execution_count": 10,
      "outputs": []
    },
    {
      "cell_type": "code",
      "metadata": {
        "id": "QMDu_uFKWGVv",
        "colab_type": "code",
        "colab": {
          "base_uri": "https://localhost:8080/",
          "height": 35
        },
        "outputId": "34f2d7a9-1ac0-4e33-9b4c-cad8d762e79b"
      },
      "source": [
        "col_indices = np.arange(N)\n",
        "print(col_indices)"
      ],
      "execution_count": 11,
      "outputs": [
        {
          "output_type": "stream",
          "text": [
            "[ 0  1  2  3  4  5  6  7  8  9 10 11 12 13 14 15 16 17 18 19]\n"
          ],
          "name": "stdout"
        }
      ]
    },
    {
      "cell_type": "code",
      "metadata": {
        "id": "ti08wdjuWREl",
        "colab_type": "code",
        "colab": {}
      },
      "source": [
        "#declare the decision variables in the model\n",
        "model.x = Var(col_indices)\n"
      ],
      "execution_count": 12,
      "outputs": []
    },
    {
      "cell_type": "code",
      "metadata": {
        "id": "aMd56MsQWpq0",
        "colab_type": "code",
        "colab": {}
      },
      "source": [
        "# creating  a ConstraintList to hold multiple constraints\n",
        "model.constraints = ConstraintList()"
      ],
      "execution_count": 13,
      "outputs": []
    },
    {
      "cell_type": "code",
      "metadata": {
        "id": "lL6fKwdEW8G9",
        "colab_type": "code",
        "colab": {}
      },
      "source": [
        "#defining constraints using for loop\n",
        "for i in row_indices:\n",
        "    model.constraints.add(sum(const_coef_A[i,j]*model.x[j] for j in col_indices)==(const_rhs_b[i]))\n",
        "  "
      ],
      "execution_count": 14,
      "outputs": []
    },
    {
      "cell_type": "code",
      "metadata": {
        "id": "gXvQmAWiaWbg",
        "colab_type": "code",
        "colab": {}
      },
      "source": [
        "#adding the upper bound and lower bounds for the variables\n",
        "for j in col_indices:\n",
        "  model.x[j].setlb(lower_bound[j])\n",
        "  model.x[j].setub(upper_bound[j])\n"
      ],
      "execution_count": 15,
      "outputs": []
    },
    {
      "cell_type": "code",
      "metadata": {
        "id": "Ev8NZTczaicg",
        "colab_type": "code",
        "colab": {}
      },
      "source": [
        "#defining objective function\n",
        "model.objective=Objective(expr=sum(obj_coef_c[j]*model.x[j] for j in col_indices),sense=minimize)"
      ],
      "execution_count": 16,
      "outputs": []
    },
    {
      "cell_type": "code",
      "metadata": {
        "id": "aIQ2biaaccor",
        "colab_type": "code",
        "colab": {
          "base_uri": "https://localhost:8080/",
          "height": 855
        },
        "outputId": "fbde7c84-74ae-473c-a11a-1842d1c4013a"
      },
      "source": [
        "model.pprint()"
      ],
      "execution_count": 17,
      "outputs": [
        {
          "output_type": "stream",
          "text": [
            "2 Set Declarations\n",
            "    constraints_index : Size=1, Index=None, Ordered=Insertion\n",
            "        Key  : Dimen : Domain : Size : Members\n",
            "        None :     1 :    Any :    3 : {1, 2, 3}\n",
            "    x_index : Size=1, Index=None, Ordered=False\n",
            "        Key  : Dimen : Domain : Size : Members\n",
            "        None :     1 :    Any :   20 : {0, 1, 2, 3, 4, 5, 6, 7, 8, 9, 10, 11, 12, 13, 14, 15, 16, 17, 18, 19}\n",
            "\n",
            "1 Var Declarations\n",
            "    x : Size=20, Index=x_index\n",
            "        Key : Lower : Value : Upper : Fixed : Stale : Domain\n",
            "          0 :     0 :  None :  10.0 : False :  True :  Reals\n",
            "          1 :     0 :  None :   7.0 : False :  True :  Reals\n",
            "          2 :     0 :  None :   8.0 : False :  True :  Reals\n",
            "          3 :     0 :  None :  15.0 : False :  True :  Reals\n",
            "          4 :     0 :  None :   8.0 : False :  True :  Reals\n",
            "          5 :     0 :  None :  15.0 : False :  True :  Reals\n",
            "          6 :     0 :  None :  12.0 : False :  True :  Reals\n",
            "          7 :     0 :  None :  10.0 : False :  True :  Reals\n",
            "          8 :     0 :  None :   0.0 : False :  True :  Reals\n",
            "          9 :     0 :  None :   9.0 : False :  True :  Reals\n",
            "         10 :     0 :  None :   inf : False :  True :  Reals\n",
            "         11 :     0 :  None :   inf : False :  True :  Reals\n",
            "         12 :     0 :  None :   inf : False :  True :  Reals\n",
            "         13 :     0 :  None :   inf : False :  True :  Reals\n",
            "         14 :     0 :  None :   inf : False :  True :  Reals\n",
            "         15 :     0 :  None :   inf : False :  True :  Reals\n",
            "         16 :     0 :  None :   inf : False :  True :  Reals\n",
            "         17 :     0 :  None :   inf : False :  True :  Reals\n",
            "         18 :     0 :  None :   inf : False :  True :  Reals\n",
            "         19 :     0 :  None :   inf : False :  True :  Reals\n",
            "\n",
            "1 Objective Declarations\n",
            "    objective : Size=1, Index=None, Active=True\n",
            "        Key  : Active : Sense    : Expression\n",
            "        None :   True : minimize : 35*x[0] + 50*x[1] + 58*x[2] + 60*x[3] + 44*x[4] + 39*x[5] + 45*x[6] + 55*x[7] + 35*x[8] + 40*x[9] + 72*x[10] + 95*x[11] + 110*x[12] + 125*x[13] + 88*x[14] + 74*x[15] + 95*x[16] + 115*x[17] + 60*x[18] + 84*x[19]\n",
            "\n",
            "1 Constraint Declarations\n",
            "    constraints : Size=3, Index=constraints_index, Active=True\n",
            "        Key : Lower   : Body                                                                                                                                                                                                            : Upper   : Active\n",
            "          1 : 11250.0 : 80*x[0] + 75*x[1] + 75*x[2] + 60*x[3] + 55*x[4] + 55*x[5] + 40*x[6] + 35*x[7] + 30*x[8] + 30*x[9] + 80*x[10] + 75*x[11] + 75*x[12] + 60*x[13] + 55*x[14] + 55*x[15] + 40*x[16] + 35*x[17] + 30*x[18] + 30*x[19] : 11250.0 :   True\n",
            "          2 :  8750.0 : 15*x[0] + 15*x[1] + 10*x[2] + 20*x[3] + 25*x[4] + 10*x[5] + 50*x[6] + 15*x[7] + 30*x[8] + 55*x[9] + 15*x[10] + 15*x[11] + 10*x[12] + 20*x[13] + 25*x[14] + 10*x[15] + 50*x[16] + 15*x[17] + 30*x[18] + 55*x[19] :  8750.0 :   True\n",
            "          3 :  5000.0 :   5*x[0] + 10*x[1] + 15*x[2] + 20*x[3] + 20*x[4] + 35*x[5] + 10*x[6] + 50*x[7] + 40*x[8] + 15*x[9] + 5*x[10] + 10*x[11] + 15*x[12] + 20*x[13] + 20*x[14] + 35*x[15] + 10*x[16] + 50*x[17] + 40*x[18] + 15*x[19] :  5000.0 :   True\n",
            "\n",
            "5 Declarations: x_index x constraints_index constraints objective\n"
          ],
          "name": "stdout"
        }
      ]
    },
    {
      "cell_type": "code",
      "metadata": {
        "id": "hrOfA5Dacicy",
        "colab_type": "code",
        "colab": {
          "base_uri": "https://localhost:8080/",
          "height": 472
        },
        "outputId": "0d23dbf1-9400-4311-e9b9-9ddfb12a4e0f"
      },
      "source": [
        "!apt-get install -y -qq glpk-utils"
      ],
      "execution_count": 18,
      "outputs": [
        {
          "output_type": "stream",
          "text": [
            "Selecting previously unselected package libsuitesparseconfig5:amd64.\n",
            "(Reading database ... 144556 files and directories currently installed.)\n",
            "Preparing to unpack .../libsuitesparseconfig5_1%3a5.1.2-2_amd64.deb ...\n",
            "Unpacking libsuitesparseconfig5:amd64 (1:5.1.2-2) ...\n",
            "Selecting previously unselected package libamd2:amd64.\n",
            "Preparing to unpack .../libamd2_1%3a5.1.2-2_amd64.deb ...\n",
            "Unpacking libamd2:amd64 (1:5.1.2-2) ...\n",
            "Selecting previously unselected package libcolamd2:amd64.\n",
            "Preparing to unpack .../libcolamd2_1%3a5.1.2-2_amd64.deb ...\n",
            "Unpacking libcolamd2:amd64 (1:5.1.2-2) ...\n",
            "Selecting previously unselected package libglpk40:amd64.\n",
            "Preparing to unpack .../libglpk40_4.65-1_amd64.deb ...\n",
            "Unpacking libglpk40:amd64 (4.65-1) ...\n",
            "Selecting previously unselected package glpk-utils.\n",
            "Preparing to unpack .../glpk-utils_4.65-1_amd64.deb ...\n",
            "Unpacking glpk-utils (4.65-1) ...\n",
            "Setting up libsuitesparseconfig5:amd64 (1:5.1.2-2) ...\n",
            "Setting up libcolamd2:amd64 (1:5.1.2-2) ...\n",
            "Setting up libamd2:amd64 (1:5.1.2-2) ...\n",
            "Setting up libglpk40:amd64 (4.65-1) ...\n",
            "Setting up glpk-utils (4.65-1) ...\n",
            "Processing triggers for libc-bin (2.27-3ubuntu1) ...\n",
            "/sbin/ldconfig.real: /usr/local/lib/python3.6/dist-packages/ideep4py/lib/libmkldnn.so.0 is not a symbolic link\n",
            "\n",
            "Processing triggers for man-db (2.8.3-2ubuntu0.1) ...\n"
          ],
          "name": "stdout"
        }
      ]
    },
    {
      "cell_type": "code",
      "metadata": {
        "id": "dVcMIWPLcnsu",
        "colab_type": "code",
        "colab": {
          "base_uri": "https://localhost:8080/",
          "height": 617
        },
        "outputId": "ab9ff2c9-62ca-412b-92a9-49e58ccaf717"
      },
      "source": [
        "SolverFactory('glpk', executable='/usr/bin/glpsol').solve(model).write()"
      ],
      "execution_count": 19,
      "outputs": [
        {
          "output_type": "stream",
          "text": [
            "# ==========================================================\n",
            "# = Solver Results                                         =\n",
            "# ==========================================================\n",
            "# ----------------------------------------------------------\n",
            "#   Problem Information\n",
            "# ----------------------------------------------------------\n",
            "Problem: \n",
            "- Name: unknown\n",
            "  Lower bound: 16238.44\n",
            "  Upper bound: 16238.44\n",
            "  Number of objectives: 1\n",
            "  Number of constraints: 4\n",
            "  Number of variables: 21\n",
            "  Number of nonzeros: 61\n",
            "  Sense: minimize\n",
            "# ----------------------------------------------------------\n",
            "#   Solver Information\n",
            "# ----------------------------------------------------------\n",
            "Solver: \n",
            "- Status: ok\n",
            "  Termination condition: optimal\n",
            "  Statistics: \n",
            "    Branch and bound: \n",
            "      Number of bounded subproblems: 0\n",
            "      Number of created subproblems: 0\n",
            "  Error rc: 0\n",
            "  Time: 0.010906457901000977\n",
            "# ----------------------------------------------------------\n",
            "#   Solution Information\n",
            "# ----------------------------------------------------------\n",
            "Solution: \n",
            "- number of solutions: 0\n",
            "  number of solutions displayed: 0\n"
          ],
          "name": "stdout"
        }
      ]
    },
    {
      "cell_type": "code",
      "metadata": {
        "id": "qYZEXa3ndMBb",
        "colab_type": "code",
        "colab": {
          "base_uri": "https://localhost:8080/",
          "height": 581
        },
        "outputId": "85b96d49-4d96-4390-fd06-720b85d8d2be"
      },
      "source": [
        "# display solution\n",
        "print('\\nObjective = ', model.objective())\n",
        "\n",
        "print('\\nDecision Variables')\n",
        "for j in col_indices:\n",
        "  print('x[',j,'] = ', model.x[j].value)\n",
        "\n",
        "print('\\nConstraints')\n",
        "model.constraints.display()"
      ],
      "execution_count": 20,
      "outputs": [
        {
          "output_type": "stream",
          "text": [
            "\n",
            "Objective =  16238.44\n",
            "\n",
            "Decision Variables\n",
            "x[ 0 ] =  10.0\n",
            "x[ 1 ] =  7.0\n",
            "x[ 2 ] =  8.0\n",
            "x[ 3 ] =  15.0\n",
            "x[ 4 ] =  8.0\n",
            "x[ 5 ] =  15.0\n",
            "x[ 6 ] =  12.0\n",
            "x[ 7 ] =  0.0\n",
            "x[ 8 ] =  0.0\n",
            "x[ 9 ] =  9.0\n",
            "x[ 10 ] =  28.6\n",
            "x[ 11 ] =  0.0\n",
            "x[ 12 ] =  0.0\n",
            "x[ 13 ] =  0.0\n",
            "x[ 14 ] =  0.0\n",
            "x[ 15 ] =  0.0\n",
            "x[ 16 ] =  0.0\n",
            "x[ 17 ] =  0.0\n",
            "x[ 18 ] =  52.64\n",
            "x[ 19 ] =  84.76\n",
            "\n",
            "Constraints\n",
            "constraints : Size=3\n",
            "    Key : Lower   : Body    : Upper\n",
            "      1 : 11250.0 : 11250.0 : 11250.0\n",
            "      2 :  8750.0 :  8750.0 :  8750.0\n",
            "      3 :  5000.0 :  5000.0 :  5000.0\n"
          ],
          "name": "stdout"
        }
      ]
    },
    {
      "cell_type": "markdown",
      "metadata": {
        "id": "Z5xIUGipC-Uy",
        "colab_type": "text"
      },
      "source": [
        "3.[R]#optimum value of objective function is **16238.44**\\\n",
        " At optimality condition values of variables are \n",
        " x[ 0 ] =  10.0\\\n",
        "x[ 1 ] =  7.0\\\n",
        "x[ 2 ] =  8.0\\\n",
        "x[ 3 ] =  15.0\\\n",
        "x[ 4 ] =  8.0\\\n",
        "x[ 5 ] =  15.0\\\n",
        "x[ 6 ] =  12.0\\\n",
        "x[ 7 ] =  0.0\\\n",
        "x[ 8 ] =  0.0\\\n",
        "x[ 9 ] =  9.0\\\n",
        "x[ 10 ] =  28.6\\\n",
        "x[ 11 ] =  0.0\\\n",
        "x[ 12 ] =  0.0\\\n",
        "x[ 13 ] =  0.0\\\n",
        "x[ 14 ] =  0.0\\\n",
        "x[ 15 ] =  0.0\\\n",
        "x[ 16 ] =  0.0\\\n",
        "x[ 17 ] =  0.0\\\n",
        "x[ 18 ] =  52.64\\\n",
        "x[ 19 ] =  84.76"
      ]
    },
    {
      "cell_type": "markdown",
      "metadata": {
        "id": "behhXVwVE1W-",
        "colab_type": "text"
      },
      "source": [
        "4.[R] \\\n",
        "Three alloy which is ranked above all according to their quantity purchased from market .\\\n",
        "A10=84.76 Ton \\\n",
        "A9=52.64 Ton \\\n",
        "A1=28.6 Ton \\\n",
        "only these alloys are purchased from market so there is no low ranked alloy."
      ]
    },
    {
      "cell_type": "markdown",
      "metadata": {
        "id": "zvJDJxLTGdai",
        "colab_type": "text"
      },
      "source": [
        "5.[R]\\\n",
        "alloy A1,A2,A3,A4,A5,A6,A7 and A10 is completely utilised,\n",
        "since these product are available in the company stock which cost very less as compared to when purchased from market.therefore utilised fully to save cost.\n"
      ]
    },
    {
      "cell_type": "markdown",
      "metadata": {
        "id": "6tiiFhyaKAVi",
        "colab_type": "text"
      },
      "source": [
        "6.[R]\n",
        "alloy A2,A3,A4,A5,A6,A7 need not be purchased from market.\n",
        "since required quantity for optimum condition is available in the stock."
      ]
    }
  ]
}