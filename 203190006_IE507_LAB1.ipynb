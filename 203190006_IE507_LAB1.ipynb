{
  "nbformat": 4,
  "nbformat_minor": 0,
  "metadata": {
    "colab": {
      "name": "203190006_IE507_LAB1.ipynb",
      "provenance": [],
      "collapsed_sections": []
    },
    "kernelspec": {
      "name": "python3",
      "display_name": "Python 3"
    }
  },
  "cells": [
    {
      "cell_type": "code",
      "metadata": {
        "id": "Z6BcS_ss4C3R"
      },
      "source": [
        ""
      ],
      "execution_count": 39,
      "outputs": []
    },
    {
      "cell_type": "markdown",
      "metadata": {
        "id": "3EhJSPA_4Zaq"
      },
      "source": [
        "**#solutions of tutorial problems**\n",
        "\n",
        "#*solution of problem 1.*"
      ]
    },
    {
      "cell_type": "code",
      "metadata": {
        "id": "tHwlQlET4mCt"
      },
      "source": [
        "!pip install -q pyomo\n"
      ],
      "execution_count": 40,
      "outputs": []
    },
    {
      "cell_type": "code",
      "metadata": {
        "id": "cKcuUgyy9I0h"
      },
      "source": [
        "from pyomo.environ import * "
      ],
      "execution_count": 41,
      "outputs": []
    },
    {
      "cell_type": "markdown",
      "metadata": {
        "id": "iaoV26f6L1ej"
      },
      "source": [
        "this is my problem description\\\n",
        "$\\min \\ 2x_1 + 15x_2 - 4x_3 - 6x_4 + 7x_5 - 9x_6 - 1.6x_7\\\\\n",
        "\\text{ s.t } x_1+x_2+x_3+x_4+x_5+x_6+x_7 = 200,\\\\\n",
        "x_1 + x_2 ≥ 10,\\\\\n",
        "4x_3 + 2x_6 + 3x_7 ≤ 150\\\\\n",
        "10x_1 - x_6 + 3x_5 ≥ 20,\\\\\n",
        " x_3- x_5 + 3x_7 ≥ 10,\\\n",
        " x_1 ≥ 0, x_2 ≥ 12, x_3 ≥ −10, x_4 ≥ 8,\\\\\n",
        " x_5 ≥ 9, x_6 ≥ −1, x_7 ≥ 0$\n",
        " \n",
        "---"
      ]
    },
    {
      "cell_type": "code",
      "metadata": {
        "id": "-Ih57apx930E"
      },
      "source": [
        "#creating model\n",
        "model = ConcreteModel()"
      ],
      "execution_count": 42,
      "outputs": []
    },
    {
      "cell_type": "code",
      "metadata": {
        "id": "SNSaOX1d_ibG"
      },
      "source": [
        "# defing decision variables\n",
        "model.x1=Var(domain=Reals)\n",
        "model.x2=Var(domain=Reals)\n",
        "model.x3=Var(domain=Reals)\n",
        "model.x4=Var(domain=Reals)\n",
        "model.x5=Var(domain=Reals)\n",
        "model.x6=Var(domain=Reals)\n",
        "model.x7=Var(domain=Reals)"
      ],
      "execution_count": 43,
      "outputs": []
    },
    {
      "cell_type": "code",
      "metadata": {
        "id": "N206ZjToBtzD"
      },
      "source": [
        "#this is my objective function\n",
        "model.cost=Objective(expr=2*model.x1 + 15*model.x2 - 4*model.x3 - 6*model.x4 + 7*model.x5 - 9*model.x6 - 1.6*model.x7, sense=minimize)\n"
      ],
      "execution_count": 44,
      "outputs": []
    },
    {
      "cell_type": "code",
      "metadata": {
        "id": "7Etz65jqDMTd"
      },
      "source": [
        "#these are the constraints.\n",
        "model.cons1=Constraint(expr=model.x1 + model.x2 + model.x3 + model.x4 + model.x5 + model.x6 + model.x7==200)\n",
        "model.cons2=Constraint(expr=model.x1 + model.x2 >=10)\n",
        "model.cons3=Constraint(expr=4*model.x3 + 2*model.x6 + 3*model.x7 <=150)\n",
        "model.cons4=Constraint(expr=10*model.x1-model.x6+3*model.x5 >=20)\n",
        "model.cons5=Constraint(expr=model.x1 >=0)\n",
        "model.cons6=Constraint(expr=model.x2 >=12)\n",
        "model.cons7=Constraint(expr=model.x3 >=-10)\n",
        "model.cons8=Constraint(expr=model.x4 >=8)\n",
        "model.cons9=Constraint(expr=model.x5 >=9)\n",
        "model.cons10=Constraint(expr=model.x6 >=-1)\n",
        "model.cons11=Constraint(expr=model.x7 >=0)\n"
      ],
      "execution_count": 45,
      "outputs": []
    },
    {
      "cell_type": "code",
      "metadata": {
        "id": "mWkJJNQxQXl3",
        "colab": {
          "base_uri": "https://localhost:8080/"
        },
        "outputId": "d24fb90b-2499-41e8-fbb5-fae1d407421c"
      },
      "source": [
        "model.pprint()"
      ],
      "execution_count": 39,
      "outputs": [
        {
          "output_type": "stream",
          "text": [
            "7 Var Declarations\n",
            "    x1 : Size=1, Index=None\n",
            "        Key  : Lower : Value : Upper : Fixed : Stale : Domain\n",
            "        None :  None :   8.8 :  None : False : False :  Reals\n",
            "    x2 : Size=1, Index=None\n",
            "        Key  : Lower : Value : Upper : Fixed : Stale : Domain\n",
            "        None :  None :  12.0 :  None : False : False :  Reals\n",
            "    x3 : Size=1, Index=None\n",
            "        Key  : Lower : Value : Upper : Fixed : Stale : Domain\n",
            "        None :  None : -10.0 :  None : False : False :  Reals\n",
            "    x4 : Size=1, Index=None\n",
            "        Key  : Lower : Value : Upper : Fixed : Stale : Domain\n",
            "        None :  None :  85.2 :  None : False : False :  Reals\n",
            "    x5 : Size=1, Index=None\n",
            "        Key  : Lower : Value : Upper : Fixed : Stale : Domain\n",
            "        None :  None :   9.0 :  None : False : False :  Reals\n",
            "    x6 : Size=1, Index=None\n",
            "        Key  : Lower : Value : Upper : Fixed : Stale : Domain\n",
            "        None :  None :  95.0 :  None : False : False :  Reals\n",
            "    x7 : Size=1, Index=None\n",
            "        Key  : Lower : Value : Upper : Fixed : Stale : Domain\n",
            "        None :  None :   0.0 :  None : False : False :  Reals\n",
            "\n",
            "1 Objective Declarations\n",
            "    cost : Size=1, Index=None, Active=True\n",
            "        Key  : Active : Sense    : Expression\n",
            "        None :   True : minimize : 2*x1 + 15*x2 - 4*x3 - 6*x4 + 7*x5 - 9*x6 - 1.6*x7\n",
            "\n",
            "11 Constraint Declarations\n",
            "    cons1 : Size=1, Index=None, Active=True\n",
            "        Key  : Lower : Body                             : Upper : Active\n",
            "        None : 200.0 : x1 + x2 + x3 + x4 + x5 + x6 + x7 : 200.0 :   True\n",
            "    cons10 : Size=1, Index=None, Active=True\n",
            "        Key  : Lower : Body : Upper : Active\n",
            "        None :  -1.0 :   x6 :  +Inf :   True\n",
            "    cons11 : Size=1, Index=None, Active=True\n",
            "        Key  : Lower : Body : Upper : Active\n",
            "        None :   0.0 :   x7 :  +Inf :   True\n",
            "    cons2 : Size=1, Index=None, Active=True\n",
            "        Key  : Lower : Body    : Upper : Active\n",
            "        None :  10.0 : x1 + x2 :  +Inf :   True\n",
            "    cons3 : Size=1, Index=None, Active=True\n",
            "        Key  : Lower : Body               : Upper : Active\n",
            "        None :  -Inf : 4*x3 + 2*x6 + 3*x7 : 150.0 :   True\n",
            "    cons4 : Size=1, Index=None, Active=True\n",
            "        Key  : Lower : Body              : Upper : Active\n",
            "        None :  20.0 : 10*x1 - x6 + 3*x5 :  +Inf :   True\n",
            "    cons5 : Size=1, Index=None, Active=True\n",
            "        Key  : Lower : Body : Upper : Active\n",
            "        None :   0.0 :   x1 :  +Inf :   True\n",
            "    cons6 : Size=1, Index=None, Active=True\n",
            "        Key  : Lower : Body : Upper : Active\n",
            "        None :  12.0 :   x2 :  +Inf :   True\n",
            "    cons7 : Size=1, Index=None, Active=True\n",
            "        Key  : Lower : Body : Upper : Active\n",
            "        None : -10.0 :   x3 :  +Inf :   True\n",
            "    cons8 : Size=1, Index=None, Active=True\n",
            "        Key  : Lower : Body : Upper : Active\n",
            "        None :   8.0 :   x4 :  +Inf :   True\n",
            "    cons9 : Size=1, Index=None, Active=True\n",
            "        Key  : Lower : Body : Upper : Active\n",
            "        None :   9.0 :   x5 :  +Inf :   True\n",
            "\n",
            "19 Declarations: x1 x2 x3 x4 x5 x6 x7 cost cons1 cons2 cons3 cons4 cons5 cons6 cons7 cons8 cons9 cons10 cons11\n"
          ],
          "name": "stdout"
        }
      ]
    },
    {
      "cell_type": "code",
      "metadata": {
        "id": "Hc_oGcVKQ0V-",
        "colab": {
          "base_uri": "https://localhost:8080/"
        },
        "outputId": "e5277de9-c7ba-43a5-f515-c59bd1291801"
      },
      "source": [
        "!apt-get install -y -qq glpk-utils"
      ],
      "execution_count": 8,
      "outputs": [
        {
          "output_type": "stream",
          "text": [
            "Selecting previously unselected package libsuitesparseconfig5:amd64.\n",
            "(Reading database ... 144793 files and directories currently installed.)\n",
            "Preparing to unpack .../libsuitesparseconfig5_1%3a5.1.2-2_amd64.deb ...\n",
            "Unpacking libsuitesparseconfig5:amd64 (1:5.1.2-2) ...\n",
            "Selecting previously unselected package libamd2:amd64.\n",
            "Preparing to unpack .../libamd2_1%3a5.1.2-2_amd64.deb ...\n",
            "Unpacking libamd2:amd64 (1:5.1.2-2) ...\n",
            "Selecting previously unselected package libcolamd2:amd64.\n",
            "Preparing to unpack .../libcolamd2_1%3a5.1.2-2_amd64.deb ...\n",
            "Unpacking libcolamd2:amd64 (1:5.1.2-2) ...\n",
            "Selecting previously unselected package libglpk40:amd64.\n",
            "Preparing to unpack .../libglpk40_4.65-1_amd64.deb ...\n",
            "Unpacking libglpk40:amd64 (4.65-1) ...\n",
            "Selecting previously unselected package glpk-utils.\n",
            "Preparing to unpack .../glpk-utils_4.65-1_amd64.deb ...\n",
            "Unpacking glpk-utils (4.65-1) ...\n",
            "Setting up libsuitesparseconfig5:amd64 (1:5.1.2-2) ...\n",
            "Setting up libcolamd2:amd64 (1:5.1.2-2) ...\n",
            "Setting up libamd2:amd64 (1:5.1.2-2) ...\n",
            "Setting up libglpk40:amd64 (4.65-1) ...\n",
            "Setting up glpk-utils (4.65-1) ...\n",
            "Processing triggers for libc-bin (2.27-3ubuntu1.2) ...\n",
            "/sbin/ldconfig.real: /usr/local/lib/python3.6/dist-packages/ideep4py/lib/libmkldnn.so.0 is not a symbolic link\n",
            "\n",
            "Processing triggers for man-db (2.8.3-2ubuntu0.1) ...\n"
          ],
          "name": "stdout"
        }
      ]
    },
    {
      "cell_type": "code",
      "metadata": {
        "id": "QcjzKnPJQ2p8",
        "colab": {
          "base_uri": "https://localhost:8080/"
        },
        "outputId": "ba7109c3-5b36-4f2b-8765-9a41037bfa21"
      },
      "source": [
        "SolverFactory('glpk', executable='/usr/bin/glpsol').solve(model).write()"
      ],
      "execution_count": 9,
      "outputs": [
        {
          "output_type": "stream",
          "text": [
            "# ==========================================================\n",
            "# = Solver Results                                         =\n",
            "# ==========================================================\n",
            "# ----------------------------------------------------------\n",
            "#   Problem Information\n",
            "# ----------------------------------------------------------\n",
            "Problem: \n",
            "- Name: unknown\n",
            "  Lower bound: -1065.6\n",
            "  Upper bound: -1065.6\n",
            "  Number of objectives: 1\n",
            "  Number of constraints: 12\n",
            "  Number of variables: 8\n",
            "  Number of nonzeros: 23\n",
            "  Sense: minimize\n",
            "# ----------------------------------------------------------\n",
            "#   Solver Information\n",
            "# ----------------------------------------------------------\n",
            "Solver: \n",
            "- Status: ok\n",
            "  Termination condition: optimal\n",
            "  Statistics: \n",
            "    Branch and bound: \n",
            "      Number of bounded subproblems: 0\n",
            "      Number of created subproblems: 0\n",
            "  Error rc: 0\n",
            "  Time: 0.010738134384155273\n",
            "# ----------------------------------------------------------\n",
            "#   Solution Information\n",
            "# ----------------------------------------------------------\n",
            "Solution: \n",
            "- number of solutions: 0\n",
            "  number of solutions displayed: 0\n"
          ],
          "name": "stdout"
        }
      ]
    },
    {
      "cell_type": "code",
      "metadata": {
        "id": "aoQ8S0_3RGd1",
        "colab": {
          "base_uri": "https://localhost:8080/"
        },
        "outputId": "b9915457-d0b0-451a-d015-20bae1e441a3"
      },
      "source": [
        "# display solution\n",
        "print('\\nCost = ', model.cost())\n",
        "\n",
        "print('\\nDecision Variables')\n",
        "print('x1 = ', model.x1())\n",
        "print('x2 = ', model.x2())\n",
        "print('x3 = ', model.x3())\n",
        "print('x4 = ', model.x4())\n",
        "print('x5 = ', model.x5())\n",
        "print('x6 = ', model.x6())\n",
        "print('x7 = ', model.x7())\n",
        "\n",
        "\n",
        "print('\\nConstraints')\n",
        "print('Constraint 1  = ', model.cons1())\n",
        "if model.cons1.active==True:\n",
        "  print(\"constraint is satisfied\")\n",
        "else:\n",
        "  print(\"constraint is not satisfied\")\n",
        "print('Constraint 2  = ', model.cons2())\n",
        "if model.cons2.active==True:\n",
        "  print(\"constraint is satisfied\")\n",
        "else:\n",
        "  print(\"constraint is not satisfied\")\n",
        "print('Constraint 3  = ', model.cons3())\n",
        "if model.cons3.active==True:\n",
        "  print(\"constraint is satisfied\")\n",
        "else:\n",
        "  print(\"constraint is not satisfied\")\n",
        "print('Constraint 4  = ', model.cons4())\n",
        "if model.cons3.active==True:\n",
        "  print(\"constraint is satisfied\")\n",
        "else:\n",
        "  print(\"constraint is not satisfied\")\n",
        "print('Constraint 5  = ', model.cons5())\n",
        "print('Constraint 6  = ', model.cons6())\n",
        "print('Constraint 7  = ', model.cons7())\n",
        "print('Constraint 8 = ', model.cons8())\n",
        "print('Constraint 9  = ', model.cons9())\n",
        "print('Constraint 10  = ', model.cons10())\n",
        "print('Constraint 11 = ', model.cons11())\n",
        "\n",
        "\n"
      ],
      "execution_count": 10,
      "outputs": [
        {
          "output_type": "stream",
          "text": [
            "\n",
            "Cost =  -1065.6\n",
            "\n",
            "Decision Variables\n",
            "x1 =  8.8\n",
            "x2 =  12.0\n",
            "x3 =  -10.0\n",
            "x4 =  85.2\n",
            "x5 =  9.0\n",
            "x6 =  95.0\n",
            "x7 =  0.0\n",
            "\n",
            "Constraints\n",
            "Constraint 1  =  200.0\n",
            "constraint is satisfied\n",
            "Constraint 2  =  20.8\n",
            "constraint is satisfied\n",
            "Constraint 3  =  150.0\n",
            "constraint is satisfied\n",
            "Constraint 4  =  20.0\n",
            "constraint is satisfied\n",
            "Constraint 5  =  8.8\n",
            "Constraint 6  =  12.0\n",
            "Constraint 7  =  -10.0\n",
            "Constraint 8 =  85.2\n",
            "Constraint 9  =  9.0\n",
            "Constraint 10  =  95.0\n",
            "Constraint 11 =  0.0\n"
          ],
          "name": "stdout"
        }
      ]
    },
    {
      "cell_type": "markdown",
      "metadata": {
        "id": "Vv56C81IWAX9"
      },
      "source": [
        ""
      ]
    },
    {
      "cell_type": "markdown",
      "metadata": {
        "id": "uIoqe4U-Vtgd"
      },
      "source": [
        "**3[R]**\\\n",
        "**At optimised condition i obtained following values**\n",
        "\n",
        "value of objective function at optimum condition\\\n",
        "Cost =  -1065.6\n",
        "\n",
        "Value of Decision Variables at optimum condition \\\n",
        "x1 =  8.8\\\n",
        "x2 =  12.0\\\n",
        "x3 =  -10.0\\\n",
        "x4 =  85.2\\\n",
        "x5 =  9.0\\\n",
        "x6 =  95.0\\\n",
        "x7 =  0.0\\\n",
        "\n"
      ]
    },
    {
      "cell_type": "markdown",
      "metadata": {
        "id": "iSSWEKz-XZyJ"
      },
      "source": [
        "**4[R]**\\\n",
        " Value of left side of Constraints at optimum condition \\\n",
        "Constraint 1  =  200.0\\\n",
        "Constraint 2  =  20.8\\\n",
        "Constraint 3  =  150.0\\\n",
        "Constraint 4  =  20.0\\\n",
        "all constraints satisfied."
      ]
    },
    {
      "cell_type": "markdown",
      "metadata": {
        "id": "hTipbTnBYnsm"
      },
      "source": [
        "# here is the solution for second problem of tutorial sheet"
      ]
    },
    {
      "cell_type": "code",
      "metadata": {
        "id": "ChZb1k5xY04n"
      },
      "source": [
        "!pip install -q pyomo"
      ],
      "execution_count": 11,
      "outputs": []
    },
    {
      "cell_type": "markdown",
      "metadata": {
        "id": "ZlpvWQyizPcm"
      },
      "source": [
        "after reformulating the given equations it will look like it.\n",
        "\n",
        "$\\max 0.043x_1 + 0.027x_2 + 0.025x_3 + 0.022x_4 + 0.045x_5 - 0.0275_y\\\\\n",
        "\\text{ s.t.   } x_1 + x_2 + x_3 + x_4 + x_5 - y ≤ 100\\\\\n",
        "x_2 + x_3 + x_4 ≥ 60\\\\\n",
        ".6x_1 + .6x_2 -.4x_4 + 3.6x_5\\leq0\\\\\n",
        "4x_1 +10x_2 -x_3 + 3x_4 - 3x_5\\leq0\\\\\n",
        "x_1\\geq0 ,x_2\\geq0,x_3\\geq0,x_4\\geq0,x_4\\geq0,x_5\\geq0$\n",
        "\n"
      ]
    },
    {
      "cell_type": "code",
      "metadata": {
        "id": "XRnWU1WbhSRj"
      },
      "source": [
        "from pyomo.environ import *"
      ],
      "execution_count": 12,
      "outputs": []
    },
    {
      "cell_type": "code",
      "metadata": {
        "id": "rYFlnnrLhJKK"
      },
      "source": [
        "model2=ConcreteModel()"
      ],
      "execution_count": 13,
      "outputs": []
    },
    {
      "cell_type": "code",
      "metadata": {
        "id": "c2OVm2YdaBmL",
        "colab": {
          "base_uri": "https://localhost:8080/"
        },
        "outputId": "6c2e12d5-fd0c-4ff4-90c9-0ebd340a49cc"
      },
      "source": [
        "\n",
        "model2.x1=Var(domain=Reals)\n",
        "model2.x2=Var(domain=Reals)\n",
        "model2.x3=Var(domain=Reals)\n",
        "model2.x4=Var(domain=Reals)\n",
        "model2.x4=Var(domain=Reals)\n",
        "model2.x5=Var(domain=Reals)\n",
        "model2.y=Var(domain=Reals,bounds=(0,5))"
      ],
      "execution_count": 14,
      "outputs": [
        {
          "output_type": "stream",
          "text": [
            "WARNING: Implicitly replacing the Component attribute x4 (type=<class\n",
            "    'pyomo.core.base.var.SimpleVar'>) on block unknown with a new Component\n",
            "    (type=<class 'pyomo.core.base.var.SimpleVar'>). This is usually indicative\n",
            "    of a modelling error. To avoid this warning, use block.del_component() and\n",
            "    block.add_component().\n"
          ],
          "name": "stdout"
        }
      ]
    },
    {
      "cell_type": "code",
      "metadata": {
        "id": "4JrUkvKOhbnL"
      },
      "source": [
        "#here is my objective function\n",
        "model2.cost=Objective(expr=.043*model2.x1 + .027*model2.x2 + .025*model2.x3 + .022*model2.x4 + .045*model2.x5-.0275*model2.y , sense=maximize)"
      ],
      "execution_count": 15,
      "outputs": []
    },
    {
      "cell_type": "code",
      "metadata": {
        "id": "hJ2AHfydiTHP"
      },
      "source": [
        "#here i am defining constraints\n",
        "model2.cons1=Constraint(expr=model2.x1 + model2.x2 + model2.x3 + model2.x4 + model2.x5 - model2.y <=100)\n",
        "model2.cons2=Constraint(expr=model2.x2 + model2.x3 + model2.x4 >=60)\n",
        "model2.cons3=Constraint(expr=.6*model2.x1 + .6*model2.x2 - .4*model2.x3 -.4*model2.x4 + 3.6*model2.x5 <=0)\n",
        "model2.cons4=Constraint(expr=4*model2.x1 + 10*model2.x2 - model2.x3 + 3*model2.x4 -3*model2.x5  <=0)\n",
        "model2.cons5=Constraint(expr= model2.x1>=0)\n",
        "model2.cons6=Constraint(expr= model2.x2>=0)\n",
        "model2.cons7=Constraint(expr= model2.x3>=0)\n",
        "model2.cons8=Constraint(expr= model2.x4>=0)\n",
        "model2.cons9=Constraint(expr= model2.x5>=0)\n",
        "                      "
      ],
      "execution_count": 16,
      "outputs": []
    },
    {
      "cell_type": "code",
      "metadata": {
        "id": "4Y--pyvVkd6W",
        "colab": {
          "base_uri": "https://localhost:8080/"
        },
        "outputId": "03397a48-9678-4172-96d7-dcc39d7d246b"
      },
      "source": [
        "model2.pprint()"
      ],
      "execution_count": 17,
      "outputs": [
        {
          "output_type": "stream",
          "text": [
            "6 Var Declarations\n",
            "    x1 : Size=1, Index=None\n",
            "        Key  : Lower : Value : Upper : Fixed : Stale : Domain\n",
            "        None :  None :  None :  None : False :  True :  Reals\n",
            "    x2 : Size=1, Index=None\n",
            "        Key  : Lower : Value : Upper : Fixed : Stale : Domain\n",
            "        None :  None :  None :  None : False :  True :  Reals\n",
            "    x3 : Size=1, Index=None\n",
            "        Key  : Lower : Value : Upper : Fixed : Stale : Domain\n",
            "        None :  None :  None :  None : False :  True :  Reals\n",
            "    x4 : Size=1, Index=None\n",
            "        Key  : Lower : Value : Upper : Fixed : Stale : Domain\n",
            "        None :  None :  None :  None : False :  True :  Reals\n",
            "    x5 : Size=1, Index=None\n",
            "        Key  : Lower : Value : Upper : Fixed : Stale : Domain\n",
            "        None :  None :  None :  None : False :  True :  Reals\n",
            "    y : Size=1, Index=None\n",
            "        Key  : Lower : Value : Upper : Fixed : Stale : Domain\n",
            "        None :     0 :  None :     5 : False :  True :  Reals\n",
            "\n",
            "1 Objective Declarations\n",
            "    cost : Size=1, Index=None, Active=True\n",
            "        Key  : Active : Sense    : Expression\n",
            "        None :   True : maximize : 0.043*x1 + 0.027*x2 + 0.025*x3 + 0.022*x4 + 0.045*x5 - 0.0275*y\n",
            "\n",
            "9 Constraint Declarations\n",
            "    cons1 : Size=1, Index=None, Active=True\n",
            "        Key  : Lower : Body                       : Upper : Active\n",
            "        None :  -Inf : x1 + x2 + x3 + x4 + x5 - y : 100.0 :   True\n",
            "    cons2 : Size=1, Index=None, Active=True\n",
            "        Key  : Lower : Body         : Upper : Active\n",
            "        None :  60.0 : x2 + x3 + x4 :  +Inf :   True\n",
            "    cons3 : Size=1, Index=None, Active=True\n",
            "        Key  : Lower : Body                                       : Upper : Active\n",
            "        None :  -Inf : 0.6*x1 + 0.6*x2 - 0.4*x3 - 0.4*x4 + 3.6*x5 :   0.0 :   True\n",
            "    cons4 : Size=1, Index=None, Active=True\n",
            "        Key  : Lower : Body                            : Upper : Active\n",
            "        None :  -Inf : 4*x1 + 10*x2 - x3 + 3*x4 - 3*x5 :   0.0 :   True\n",
            "    cons5 : Size=1, Index=None, Active=True\n",
            "        Key  : Lower : Body : Upper : Active\n",
            "        None :   0.0 :   x1 :  +Inf :   True\n",
            "    cons6 : Size=1, Index=None, Active=True\n",
            "        Key  : Lower : Body : Upper : Active\n",
            "        None :   0.0 :   x2 :  +Inf :   True\n",
            "    cons7 : Size=1, Index=None, Active=True\n",
            "        Key  : Lower : Body : Upper : Active\n",
            "        None :   0.0 :   x3 :  +Inf :   True\n",
            "    cons8 : Size=1, Index=None, Active=True\n",
            "        Key  : Lower : Body : Upper : Active\n",
            "        None :   0.0 :   x4 :  +Inf :   True\n",
            "    cons9 : Size=1, Index=None, Active=True\n",
            "        Key  : Lower : Body : Upper : Active\n",
            "        None :   0.0 :   x5 :  +Inf :   True\n",
            "\n",
            "16 Declarations: x1 x2 x3 x4 x5 y cost cons1 cons2 cons3 cons4 cons5 cons6 cons7 cons8 cons9\n"
          ],
          "name": "stdout"
        }
      ]
    },
    {
      "cell_type": "code",
      "metadata": {
        "id": "iBOCQYkdkjWh"
      },
      "source": [
        "!apt-get install -y -qq glpk-utils"
      ],
      "execution_count": 18,
      "outputs": []
    },
    {
      "cell_type": "code",
      "metadata": {
        "id": "Zugv2oa0kxfz",
        "colab": {
          "base_uri": "https://localhost:8080/"
        },
        "outputId": "03bbb957-ceb1-44aa-b753-4d7413a74fcd"
      },
      "source": [
        "SolverFactory('glpk', executable='/usr/bin/glpsol').solve(model2).write()"
      ],
      "execution_count": 19,
      "outputs": [
        {
          "output_type": "stream",
          "text": [
            "# ==========================================================\n",
            "# = Solver Results                                         =\n",
            "# ==========================================================\n",
            "# ----------------------------------------------------------\n",
            "#   Problem Information\n",
            "# ----------------------------------------------------------\n",
            "Problem: \n",
            "- Name: unknown\n",
            "  Lower bound: 2.99531818181818\n",
            "  Upper bound: 2.99531818181818\n",
            "  Number of objectives: 1\n",
            "  Number of constraints: 10\n",
            "  Number of variables: 7\n",
            "  Number of nonzeros: 25\n",
            "  Sense: maximize\n",
            "# ----------------------------------------------------------\n",
            "#   Solver Information\n",
            "# ----------------------------------------------------------\n",
            "Solver: \n",
            "- Status: ok\n",
            "  Termination condition: optimal\n",
            "  Statistics: \n",
            "    Branch and bound: \n",
            "      Number of bounded subproblems: 0\n",
            "      Number of created subproblems: 0\n",
            "  Error rc: 0\n",
            "  Time: 0.015407323837280273\n",
            "# ----------------------------------------------------------\n",
            "#   Solution Information\n",
            "# ----------------------------------------------------------\n",
            "Solution: \n",
            "- number of solutions: 0\n",
            "  number of solutions displayed: 0\n"
          ],
          "name": "stdout"
        }
      ]
    },
    {
      "cell_type": "code",
      "metadata": {
        "id": "arhCTZWvlVB_",
        "colab": {
          "base_uri": "https://localhost:8080/"
        },
        "outputId": "468fc25e-444a-496c-f389-2c744b6c8db4"
      },
      "source": [
        " #display solution\n",
        "print('cost',model2.cost())\n",
        "\n",
        "print('\\nDecision Variables')\n",
        "print('x1 = ', model2.x1())\n",
        "print('x2 = ', model2.x2())\n",
        "print('x3 = ', model2.x3())\n",
        "print('x4 = ', model2.x4())\n",
        "print('x5 = ', model2.x5())\n",
        "print('y = ', model2.y())\n",
        "\n",
        "print('\\nConstraints')\n",
        "print('Constraint 1  = ', model2.cons1())\n",
        "if model2.cons1.active==True:\n",
        "  print(\"constraint is satisfied\")\n",
        "else:\n",
        "  print(\"constraint is not satisfied\")\n",
        "print('Constraint 2  = ', model2.cons2())\n",
        "if model2.cons1.active==True:\n",
        "  print(\"constraint is satisfied\")\n",
        "else:\n",
        "  print(\"constraint is not satisfied\")\n",
        "print('Constraint 3  = ', model2.cons3())\n",
        "if model2.cons1.active==True:\n",
        "  print(\"constraint is satisfied\")\n",
        "else:\n",
        "  print(\"constraint is not satisfied\")\n",
        "print('Constraint 4  = ', model2.cons4())\n",
        "if model2.cons1.active==True:\n",
        "  print(\"constraint is satisfied\")\n",
        "else:\n",
        "  print(\"constraint is not satisfied\")"
      ],
      "execution_count": 20,
      "outputs": [
        {
          "output_type": "stream",
          "text": [
            "cost 2.995318181818181\n",
            "\n",
            "Decision Variables\n",
            "x1 =  22.9090909090909\n",
            "x2 =  0.0\n",
            "x3 =  77.3181818181818\n",
            "x4 =  0.0\n",
            "x5 =  4.77272727272727\n",
            "y =  5.0\n",
            "\n",
            "Constraints\n",
            "Constraint 1  =  99.99999999999996\n",
            "constraint is satisfied\n",
            "Constraint 2  =  77.3181818181818\n",
            "constraint is satisfied\n",
            "Constraint 3  =  -1.0658141036401503e-14\n",
            "constraint is satisfied\n",
            "Constraint 4  =  -1.0658141036401503e-14\n",
            "constraint is satisfied\n"
          ],
          "name": "stdout"
        }
      ]
    },
    {
      "cell_type": "markdown",
      "metadata": {
        "id": "7IM4P07h1yo9"
      },
      "source": [
        "3[R]\n",
        "after optimization \\\n",
        "maximum value of objective function =2.9953 is obtained\\\n",
        "value of decision variables at this optimized condition\\\n",
        "x1 =  22.9090909090909\\\n",
        "x2 =  0.0\\\n",
        "x3 =  77.3181818181818\\\n",
        "x4 =  0.0\\\n",
        "x5 =  4.77272727272727\\\n",
        "y =  5.0\\\n",
        "All the constraints equations are satisfied"
      ]
    },
    {
      "cell_type": "markdown",
      "metadata": {
        "id": "Q2c_DnW7WCOA"
      },
      "source": [
        "**# Here is the model for exercise 3** \n",
        "\n",
        "#defining problem \n",
        "$\\min  45*P + 80*Q\\\\\n",
        "P+Q\\geq60\\\\1.25*P+.75*Q\\leq350\\\\P\\geq45, Q\\geq29$ \\\\\n",
        "since the company is manufacturing two product P & Q ,there fore i have taken it as a variable whose unit will be in 'kg'.\n",
        "production cost  per kg P is Rs 45 and Rs 80 for Q per kg.\n",
        "so total manufacturing cost can be written like above mentioned objective function.\n",
        "constraints are defined according to problem.\n",
        "it is assumed that minimum production of P should be 45kg and Q should be 29kg since this is order placed by a  customer, delivery of minimum this much product is must.\n",
        "also total available time slot for production of both product in month of september is 350hr ,therefore our total machine run time should be less than equal to it. "
      ]
    },
    {
      "cell_type": "code",
      "metadata": {
        "id": "73ur1t4QYWC7"
      },
      "source": [
        "!pip install -q pyomo"
      ],
      "execution_count": 21,
      "outputs": []
    },
    {
      "cell_type": "code",
      "metadata": {
        "id": "wURQ077qYbJA"
      },
      "source": [
        "from pyomo.environ import *"
      ],
      "execution_count": 22,
      "outputs": []
    },
    {
      "cell_type": "code",
      "metadata": {
        "id": "6WnNOPcoYg8u"
      },
      "source": [
        "model3=ConcreteModel()"
      ],
      "execution_count": 23,
      "outputs": []
    },
    {
      "cell_type": "code",
      "metadata": {
        "id": "N_uhXmNqYoWa"
      },
      "source": [
        "model3.P=Var(domain=Reals)\n",
        "model3.Q=Var(domain=Reals)"
      ],
      "execution_count": 24,
      "outputs": []
    },
    {
      "cell_type": "code",
      "metadata": {
        "id": "MfBwspvwY768"
      },
      "source": [
        "# defining my objective function\n",
        "model3.cost=Objective(expr= 45*model3.P + 80*model3.Q , sense=minimize )"
      ],
      "execution_count": 25,
      "outputs": []
    },
    {
      "cell_type": "code",
      "metadata": {
        "id": "abaJ-mSxatFN"
      },
      "source": [
        "# defining the constraints \n",
        "model3.cons1=Constraint(expr= model3.P + model3.Q >= 160)\n",
        "model3.cons2=Constraint(expr= 1.25*model3.P + .75*model3.Q <= 350)\n",
        "model3.cons3=Constraint(expr= model3.P >=45)\n",
        "model3.cons4=Constraint(expr= model3.Q >=29)\n",
        "\n"
      ],
      "execution_count": 26,
      "outputs": []
    },
    {
      "cell_type": "code",
      "metadata": {
        "id": "krgRsGj8cNIk",
        "colab": {
          "base_uri": "https://localhost:8080/"
        },
        "outputId": "12fd896a-49f3-4a8a-8a93-53330494d658"
      },
      "source": [
        "model3.pprint()"
      ],
      "execution_count": 27,
      "outputs": [
        {
          "output_type": "stream",
          "text": [
            "2 Var Declarations\n",
            "    P : Size=1, Index=None\n",
            "        Key  : Lower : Value : Upper : Fixed : Stale : Domain\n",
            "        None :  None :  None :  None : False :  True :  Reals\n",
            "    Q : Size=1, Index=None\n",
            "        Key  : Lower : Value : Upper : Fixed : Stale : Domain\n",
            "        None :  None :  None :  None : False :  True :  Reals\n",
            "\n",
            "1 Objective Declarations\n",
            "    cost : Size=1, Index=None, Active=True\n",
            "        Key  : Active : Sense    : Expression\n",
            "        None :   True : minimize : 45*P + 80*Q\n",
            "\n",
            "4 Constraint Declarations\n",
            "    cons1 : Size=1, Index=None, Active=True\n",
            "        Key  : Lower : Body  : Upper : Active\n",
            "        None : 160.0 : P + Q :  +Inf :   True\n",
            "    cons2 : Size=1, Index=None, Active=True\n",
            "        Key  : Lower : Body            : Upper : Active\n",
            "        None :  -Inf : 1.25*P + 0.75*Q : 350.0 :   True\n",
            "    cons3 : Size=1, Index=None, Active=True\n",
            "        Key  : Lower : Body : Upper : Active\n",
            "        None :  45.0 :    P :  +Inf :   True\n",
            "    cons4 : Size=1, Index=None, Active=True\n",
            "        Key  : Lower : Body : Upper : Active\n",
            "        None :  29.0 :    Q :  +Inf :   True\n",
            "\n",
            "7 Declarations: P Q cost cons1 cons2 cons3 cons4\n"
          ],
          "name": "stdout"
        }
      ]
    },
    {
      "cell_type": "code",
      "metadata": {
        "id": "R2du_14ncTa0"
      },
      "source": [
        "!apt-get install -y -qq glpk-utils"
      ],
      "execution_count": 28,
      "outputs": []
    },
    {
      "cell_type": "code",
      "metadata": {
        "id": "b1uJRIJ5caVC",
        "colab": {
          "base_uri": "https://localhost:8080/"
        },
        "outputId": "33cd0117-9e8d-472b-c940-661d8d53114b"
      },
      "source": [
        "SolverFactory('glpk', executable='/usr/bin/glpsol').solve(model3).write()"
      ],
      "execution_count": 29,
      "outputs": [
        {
          "output_type": "stream",
          "text": [
            "# ==========================================================\n",
            "# = Solver Results                                         =\n",
            "# ==========================================================\n",
            "# ----------------------------------------------------------\n",
            "#   Problem Information\n",
            "# ----------------------------------------------------------\n",
            "Problem: \n",
            "- Name: unknown\n",
            "  Lower bound: 8215.0\n",
            "  Upper bound: 8215.0\n",
            "  Number of objectives: 1\n",
            "  Number of constraints: 5\n",
            "  Number of variables: 3\n",
            "  Number of nonzeros: 7\n",
            "  Sense: minimize\n",
            "# ----------------------------------------------------------\n",
            "#   Solver Information\n",
            "# ----------------------------------------------------------\n",
            "Solver: \n",
            "- Status: ok\n",
            "  Termination condition: optimal\n",
            "  Statistics: \n",
            "    Branch and bound: \n",
            "      Number of bounded subproblems: 0\n",
            "      Number of created subproblems: 0\n",
            "  Error rc: 0\n",
            "  Time: 0.013573408126831055\n",
            "# ----------------------------------------------------------\n",
            "#   Solution Information\n",
            "# ----------------------------------------------------------\n",
            "Solution: \n",
            "- number of solutions: 0\n",
            "  number of solutions displayed: 0\n"
          ],
          "name": "stdout"
        }
      ]
    },
    {
      "cell_type": "code",
      "metadata": {
        "id": "WBVLWmXLcmYq",
        "colab": {
          "base_uri": "https://localhost:8080/"
        },
        "outputId": "429177b5-6563-496b-a4e5-637b23cfeb28"
      },
      "source": [
        "print('cost', model3.cost())\n",
        "\n",
        "print('\\ndecision variables')\n",
        "print('P=',model3.P())\n",
        "print('Q=', model3.Q())\n",
        "print('\\nConstraints')\n",
        "print('Constraint 1  = ', model2.cons1())\n",
        "if model3.cons1.active==True:\n",
        "  print(\"constraint is satisfied\")\n",
        "else:\n",
        "  print(\"constraint is not satisfied\")\n",
        "print('Constraint 2  = ', model2.cons2())\n",
        "if model3.cons2.active==True:\n",
        "  print(\"constraint is satisfied\")\n",
        "else:\n",
        "  print(\"constraint is not satisfied\")\n",
        "print('Constraint 3  = ', model2.cons3())\n",
        "if model3.cons3.active==True:\n",
        "  print(\"constraint is satisfied\")\n",
        "else:\n",
        "  print(\"constraint is not satisfied\")\n",
        "print('Constraint 4  = ', model2.cons4())\n",
        "if model3.cons4.active==True:\n",
        "  print(\"constraint is satisfied\")\n",
        "else:\n",
        "  print(\"constraint is not satisfied\")\n",
        "  \n",
        "\n"
      ],
      "execution_count": 30,
      "outputs": [
        {
          "output_type": "stream",
          "text": [
            "cost 8215.0\n",
            "\n",
            "decision variables\n",
            "P= 131.0\n",
            "Q= 29.0\n",
            "\n",
            "Constraints\n",
            "Constraint 1  =  99.99999999999996\n",
            "constraint is satisfied\n",
            "Constraint 2  =  77.3181818181818\n",
            "constraint is satisfied\n",
            "Constraint 3  =  -1.0658141036401503e-14\n",
            "constraint is satisfied\n",
            "Constraint 4  =  -1.0658141036401503e-14\n",
            "constraint is satisfied\n"
          ],
          "name": "stdout"
        }
      ]
    },
    {
      "cell_type": "markdown",
      "metadata": {
        "id": "9EWW0u5osjhY"
      },
      "source": [
        "3.R\\\n",
        "**minimum production cost is 8215 rupee.**\\\n",
        "**At optimum condition we should be producing P=131 kg ,Q=29kg**\\\n",
        "**machine utilisation=77.318 hr**\\\n",
        "also all the constraints are satisfied.\n"
      ]
    },
    {
      "cell_type": "markdown",
      "metadata": {
        "id": "UX8d9uz_vMIM"
      },
      "source": [
        ""
      ]
    },
    {
      "cell_type": "markdown",
      "metadata": {
        "id": "wbpq30AZh29N"
      },
      "source": [
        "#when demand of major customer changes, then i should change the constraints accordingly.\n",
        "\n",
        "so the modified problem can be written as \\\n",
        "$\\min  45*P + 80*Q\\\\\n",
        "P+Q\\geq60\\\\1.25*P+.75*Q\\leq350\\\\P\\geq140, Q\\geq104$ \n",
        "\n",
        "here only the last two constraints are modified.Since another customer placed an order of P=95,Q=75 in addition to previous customer who had made an order of P=45 kg Q=29 kg , therefore minimum production of P=140kg and Q=104kg is must.\n",
        "\n"
      ]
    },
    {
      "cell_type": "code",
      "metadata": {
        "id": "3m2Ah49ujeiu"
      },
      "source": [
        "model4=ConcreteModel()"
      ],
      "execution_count": 31,
      "outputs": []
    },
    {
      "cell_type": "code",
      "metadata": {
        "id": "stdmoeTPjsU4"
      },
      "source": [
        "model4.P=Var(domain=Reals)\n",
        "model4.Q=Var(domain=Reals)"
      ],
      "execution_count": 32,
      "outputs": []
    },
    {
      "cell_type": "code",
      "metadata": {
        "id": "pWlYXUobj2o7"
      },
      "source": [
        "# defining my objective function\n",
        "model4.cost=Objective(expr= 45*model4.P + 80*model4.Q , sense=minimize )"
      ],
      "execution_count": 33,
      "outputs": []
    },
    {
      "cell_type": "code",
      "metadata": {
        "id": "orwbds4nkAeD"
      },
      "source": [
        "# defining the constraints \n",
        "model4.cons1=Constraint(expr= model4.P + model4.Q >= 160)\n",
        "model4.cons2=Constraint(expr= 1.25*model4.P + .75*model4.Q <= 350)\n",
        "model4.cons3=Constraint(expr= model4.P >=140)\n",
        "model4.cons4=Constraint(expr= model4.Q >=104)"
      ],
      "execution_count": 34,
      "outputs": []
    },
    {
      "cell_type": "code",
      "metadata": {
        "id": "ytjzQ3X5kGSp",
        "colab": {
          "base_uri": "https://localhost:8080/"
        },
        "outputId": "cc2852f2-3cf3-4133-9ec4-474d27d02e26"
      },
      "source": [
        "model3.pprint()"
      ],
      "execution_count": 35,
      "outputs": [
        {
          "output_type": "stream",
          "text": [
            "2 Var Declarations\n",
            "    P : Size=1, Index=None\n",
            "        Key  : Lower : Value : Upper : Fixed : Stale : Domain\n",
            "        None :  None : 131.0 :  None : False : False :  Reals\n",
            "    Q : Size=1, Index=None\n",
            "        Key  : Lower : Value : Upper : Fixed : Stale : Domain\n",
            "        None :  None :  29.0 :  None : False : False :  Reals\n",
            "\n",
            "1 Objective Declarations\n",
            "    cost : Size=1, Index=None, Active=True\n",
            "        Key  : Active : Sense    : Expression\n",
            "        None :   True : minimize : 45*P + 80*Q\n",
            "\n",
            "4 Constraint Declarations\n",
            "    cons1 : Size=1, Index=None, Active=True\n",
            "        Key  : Lower : Body  : Upper : Active\n",
            "        None : 160.0 : P + Q :  +Inf :   True\n",
            "    cons2 : Size=1, Index=None, Active=True\n",
            "        Key  : Lower : Body            : Upper : Active\n",
            "        None :  -Inf : 1.25*P + 0.75*Q : 350.0 :   True\n",
            "    cons3 : Size=1, Index=None, Active=True\n",
            "        Key  : Lower : Body : Upper : Active\n",
            "        None :  45.0 :    P :  +Inf :   True\n",
            "    cons4 : Size=1, Index=None, Active=True\n",
            "        Key  : Lower : Body : Upper : Active\n",
            "        None :  29.0 :    Q :  +Inf :   True\n",
            "\n",
            "7 Declarations: P Q cost cons1 cons2 cons3 cons4\n"
          ],
          "name": "stdout"
        }
      ]
    },
    {
      "cell_type": "code",
      "metadata": {
        "id": "tT1VRjEdkHkw"
      },
      "source": [
        "!apt-get install -y -qq glpk-utils"
      ],
      "execution_count": 36,
      "outputs": []
    },
    {
      "cell_type": "code",
      "metadata": {
        "id": "Vbgdw8IykICh",
        "colab": {
          "base_uri": "https://localhost:8080/"
        },
        "outputId": "6eb5fb4c-b269-4b4f-dfe3-72d45b78635c"
      },
      "source": [
        "SolverFactory('glpk', executable='/usr/bin/glpsol').solve(model4).write()"
      ],
      "execution_count": 37,
      "outputs": [
        {
          "output_type": "stream",
          "text": [
            "# ==========================================================\n",
            "# = Solver Results                                         =\n",
            "# ==========================================================\n",
            "# ----------------------------------------------------------\n",
            "#   Problem Information\n",
            "# ----------------------------------------------------------\n",
            "Problem: \n",
            "- Name: unknown\n",
            "  Lower bound: 14620.0\n",
            "  Upper bound: 14620.0\n",
            "  Number of objectives: 1\n",
            "  Number of constraints: 5\n",
            "  Number of variables: 3\n",
            "  Number of nonzeros: 7\n",
            "  Sense: minimize\n",
            "# ----------------------------------------------------------\n",
            "#   Solver Information\n",
            "# ----------------------------------------------------------\n",
            "Solver: \n",
            "- Status: ok\n",
            "  Termination condition: optimal\n",
            "  Statistics: \n",
            "    Branch and bound: \n",
            "      Number of bounded subproblems: 0\n",
            "      Number of created subproblems: 0\n",
            "  Error rc: 0\n",
            "  Time: 0.011109590530395508\n",
            "# ----------------------------------------------------------\n",
            "#   Solution Information\n",
            "# ----------------------------------------------------------\n",
            "Solution: \n",
            "- number of solutions: 0\n",
            "  number of solutions displayed: 0\n"
          ],
          "name": "stdout"
        }
      ]
    },
    {
      "cell_type": "code",
      "metadata": {
        "id": "sPUetYFykInx",
        "colab": {
          "base_uri": "https://localhost:8080/"
        },
        "outputId": "b8e4ee8a-7669-4494-ac1a-43b945013447"
      },
      "source": [
        "print('production cost=',model4.cost())\n",
        "print('\\ndecision variables')\n",
        "print('P=',model4.P())\n",
        "print('Q=', model4.Q())\n",
        "print('\\nConstraints')\n",
        "print('Constraint 1  = ', model4.cons1())\n",
        "if model4.cons1.active==True:\n",
        "  print(\"constraint is satisfied\")\n",
        "else:\n",
        "  print(\"constraint is not satisfied\")\n",
        "print('Constraint 2  = ', model4.cons2())\n",
        "if model4.cons2.active==True:\n",
        "  print(\"constraint is satisfied\")\n",
        "else:\n",
        "  print(\"constraint is not satisfied\")\n",
        "print('Constraint 3  = ', model4.cons3())\n",
        "if model4.cons3.active==True:\n",
        "  print(\"constraint is satisfied\")\n",
        "else:\n",
        "  print(\"constraint is not satisfied\")\n",
        "print('Constraint 4  = ', model4.cons4())\n",
        "if model4.cons4.active==True:\n",
        "  print(\"constraint is satisfied\")\n",
        "else:\n",
        "  print(\"constraint is not satisfied\")"
      ],
      "execution_count": 38,
      "outputs": [
        {
          "output_type": "stream",
          "text": [
            "production cost= 14620.0\n",
            "\n",
            "decision variables\n",
            "P= 140.0\n",
            "Q= 104.0\n",
            "\n",
            "Constraints\n",
            "Constraint 1  =  244.0\n",
            "constraint is satisfied\n",
            "Constraint 2  =  253.0\n",
            "constraint is satisfied\n",
            "Constraint 3  =  140.0\n",
            "constraint is satisfied\n",
            "Constraint 4  =  104.0\n",
            "constraint is satisfied\n"
          ],
          "name": "stdout"
        }
      ]
    },
    {
      "cell_type": "markdown",
      "metadata": {
        "id": "EOPAxDvDuPyF"
      },
      "source": [
        "At optimum condition \n",
        "minimum production cost= 14620\n",
        "P=140kg and Q=104kg will be produced .\\\n",
        "machine utilisation =253hr\\\n",
        "**# All the constraints are satisfied**. "
      ]
    },
    {
      "cell_type": "markdown",
      "metadata": {
        "id": "5CaBPwPKwwPG"
      },
      "source": [
        "from the result of modeling ,i have concluded that keshar industries is  not utilising the availble capacity of machine to its full capacity.in first case machine utilisation was just 77.31 hr but after the company got anaother order its machine utilisation increased to 253 hr. \n",
        "my suggestion to keshar company would be to switch its intention to maximum profit instead of minimum cost of production so that it could utilise its machine efficiently.\n",
        "keshar industries need to work in marketing domain in order to get few more orders."
      ]
    }
  ]
}